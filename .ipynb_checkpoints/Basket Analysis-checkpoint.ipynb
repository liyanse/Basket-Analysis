{
 "cells": [
  {
   "cell_type": "markdown",
   "id": "87befdab",
   "metadata": {},
   "source": [
    "<h1><center>Basket Analysis using Association Rules</center></h1>"
   ]
  },
  {
   "attachments": {
    "download.jpeg": {
     "image/jpeg": "[encoded data removed]"
    }
   },
   "cell_type": "markdown",
   "id": "d7b71957",
   "metadata": {},
   "source": [
    "![download.jpeg](attachment:download.jpeg)"
   ]
  },
  {
   "cell_type": "markdown",
   "id": "4a960f46",
   "metadata": {},
   "source": [
    "Market basket analysis is a data mining technique that is used to identify association rules between items in large data sets of transactional data. It is used to identify which items are frequently purchased together in order to understand consumer behavior and to identify potential opportunities for product bundling or cross-selling.\n",
    "\n",
    "For example, a market basket analysis of a grocery store's transaction data might reveal that customers who purchase bread are very likely to also purchase butter. This information could be used to create a product bundle (e.g., a \"baking essentials\" bundle including bread and butter) or to cross-sell butter to customers who are purchasing bread (e.g., by placing the butter near the bread in the store).\n",
    "\n",
    "Benefits of market basket analysis include:\n",
    "\n",
    "    Improved customer satisfaction: By understanding which items are frequently purchased together, a retailer can make it easier for customers to find everything they need in one place, which can improve the overall shopping experience.\n",
    "\n",
    "    Increased sales: By bundling or cross-selling items that are frequently purchased together, a retailer can increase sales of those items.\n",
    "\n",
    "    Enhanced marketing efforts: Market basket analysis can help a retailer understand which items are most likely to be of interest to their customers, which can help them tailor their marketing efforts to better target those customers.\n",
    "\n",
    "    Improved inventory management: By understanding which items are frequently purchased together, a retailer can better predict which items they will need to have in stock at any given time, which can help them manage their inventory more efficiently.\n",
    "    \n"
   ]
  },
  {
   "cell_type": "markdown",
   "id": "51acd08c",
   "metadata": {},
   "source": [
    "### For this project we will be;"
   ]
  },
  {
   "cell_type": "markdown",
   "id": "7ae5a0fb",
   "metadata": {},
   "source": [
    "    \n",
    "    1. Analyse and preprocess the dataset\n",
    "    2. Visualize the weekly, monthly and yearly sales and draw insights from the plotted graphs\n",
    "    3. Visualize the top and bottom selling products\n",
    "    4. Visualize the top customers for this business\n",
    "    5. Genarate association rules to be used to determine the relationships of the products\n",
    "    6. Identify the frequently purchased products\n",
    "    "
   ]
  },
  {
   "cell_type": "markdown",
   "id": "b8abb325",
   "metadata": {},
   "source": [
    "## 1. Importing the Necessary Libraries"
   ]
  },
  {
   "cell_type": "code",
   "execution_count": 1,
   "id": "80071e29",
   "metadata": {},
   "outputs": [
    {
     "ename": "ModuleNotFoundError",
     "evalue": "No module named 'altair'",
     "output_type": "error",
     "traceback": [
      "\u001b[1;31m---------------------------------------------------------------------------\u001b[0m",
      "\u001b[1;31mModuleNotFoundError\u001b[0m                       Traceback (most recent call last)",
      "\u001b[1;32m~\\AppData\\Local\\Temp/ipykernel_9984/1607001974.py\u001b[0m in \u001b[0;36m<module>\u001b[1;34m\u001b[0m\n\u001b[0;32m      2\u001b[0m \u001b[1;32mimport\u001b[0m \u001b[0mnumpy\u001b[0m \u001b[1;32mas\u001b[0m \u001b[0mnp\u001b[0m\u001b[1;33m\u001b[0m\u001b[1;33m\u001b[0m\u001b[0m\n\u001b[0;32m      3\u001b[0m \u001b[1;32mimport\u001b[0m \u001b[0mpandas\u001b[0m \u001b[1;32mas\u001b[0m \u001b[0mpd\u001b[0m\u001b[1;33m\u001b[0m\u001b[1;33m\u001b[0m\u001b[0m\n\u001b[1;32m----> 4\u001b[1;33m \u001b[1;32mimport\u001b[0m \u001b[0maltair\u001b[0m \u001b[1;32mas\u001b[0m \u001b[0malt\u001b[0m\u001b[1;33m\u001b[0m\u001b[1;33m\u001b[0m\u001b[0m\n\u001b[0m\u001b[0;32m      5\u001b[0m \u001b[1;32mimport\u001b[0m \u001b[0mholoviews\u001b[0m \u001b[1;32mas\u001b[0m \u001b[0mhv\u001b[0m\u001b[1;33m\u001b[0m\u001b[1;33m\u001b[0m\u001b[0m\n\u001b[0;32m      6\u001b[0m \u001b[1;33m\u001b[0m\u001b[0m\n",
      "\u001b[1;31mModuleNotFoundError\u001b[0m: No module named 'altair'"
     ]
    }
   ],
   "source": [
    "##Importing the necessary libraries\n",
    "import numpy as np\n",
    "import pandas as pd\n",
    "import altair as alt\n",
    "import holoviews as hv\n",
    "\n",
    "##for visualization styles\n",
    "import matplotlib.pyplot as plt\n",
    "import seaborn as sns\n",
    "sns.set_style(\"darkgrid\")\n",
    "plt.style.use('ggplot')\n",
    "import cufflinks as cf ## mainly used for pandas like visualization, colors, graphs, chart gallery e.t.c\n",
    "import plotly.express as px\n",
    "import plotly.offline as py\n",
    "from plotly.offline import plot\n",
    "import plotly.graph_objects as go\n",
    "import plotly.graph_objs as go\n",
    "\n",
    "## for association rules\n",
    "from mlxtend.frequent_patterns import apriori\n",
    "from mlxtend.frequent_patterns import association_rules\n",
    "import warnings; warnings.simplefilter('ignore')"
   ]
  },
  {
   "cell_type": "code",
   "execution_count": null,
   "id": "96cb833b",
   "metadata": {},
   "outputs": [],
   "source": []
  },
  {
   "cell_type": "code",
   "execution_count": null,
   "id": "4af09a04",
   "metadata": {},
   "outputs": [],
   "source": [
    "## Reading the dataset\n",
    "data = pd.read_csv('Groceries_dataset.csv')\n",
    "data.head()"
   ]
  },
  {
   "cell_type": "markdown",
   "id": "b5b70ba8",
   "metadata": {},
   "source": [
    "## 2. Data Preprocessing"
   ]
  },
  {
   "cell_type": "code",
   "execution_count": null,
   "id": "e59f4c5f",
   "metadata": {},
   "outputs": [],
   "source": [
    "data.shape"
   ]
  },
  {
   "cell_type": "code",
   "execution_count": null,
   "id": "3ad77693",
   "metadata": {},
   "outputs": [],
   "source": [
    "data.info()"
   ]
  },
  {
   "cell_type": "code",
   "execution_count": null,
   "id": "e5fea109",
   "metadata": {},
   "outputs": [],
   "source": [
    "data.isnull().sum()"
   ]
  },
  {
   "cell_type": "code",
   "execution_count": null,
   "id": "d80096e1",
   "metadata": {},
   "outputs": [],
   "source": [
    "## Number of unique items in the dataset\n",
    "print(f'There are : {len(data[\"itemDescription\"].unique())} unique items')"
   ]
  },
  {
   "cell_type": "code",
   "execution_count": null,
   "id": "e366e09d",
   "metadata": {},
   "outputs": [],
   "source": [
    "##Renaming the columns\n",
    "data.rename(columns = {'Member_number':'id','itemDescription':'item'}, inplace = True) "
   ]
  },
  {
   "cell_type": "code",
   "execution_count": null,
   "id": "b1c95298",
   "metadata": {},
   "outputs": [],
   "source": [
    "##Splitting the date column to form new separate columns for the day, month and year\n",
    "#Convert the 'Date' column to datetime format\n",
    "data['Date']= pd.to_datetime(data['Date'])\n",
    " \n",
    "#Extracting year,month and day\n",
    "data['year'] = data['Date'].apply(lambda x : x.year)\n",
    "data['month'] = data['Date'].apply(lambda x : x.month)\n",
    "data['day'] = data['Date'].apply(lambda x : x.day)\n",
    "data['weekday'] = data['Date'].apply(lambda x : x.weekday())\n",
    "\n",
    "#Rearranging the columns\n",
    "dataFrame=data[['id', 'Date','year', 'month', 'day','weekday','item']]\n",
    "dataFrame.head()"
   ]
  },
  {
   "cell_type": "code",
   "execution_count": null,
   "id": "41842d41",
   "metadata": {},
   "outputs": [],
   "source": [
    "dataFrame[\"year\"].unique()"
   ]
  },
  {
   "cell_type": "code",
   "execution_count": null,
   "id": "baa10ce2",
   "metadata": {},
   "outputs": [],
   "source": [
    "dataFrame[\"month\"].unique()"
   ]
  },
  {
   "cell_type": "markdown",
   "id": "22265d34",
   "metadata": {},
   "source": [
    "## 3. Explaratory Data Analysis"
   ]
  },
  {
   "cell_type": "markdown",
   "id": "d9ddefc2",
   "metadata": {},
   "source": [
    "### 1. The business yearly sales"
   ]
  },
  {
   "cell_type": "code",
   "execution_count": null,
   "id": "8fb7007e",
   "metadata": {},
   "outputs": [],
   "source": [
    "from holoviews import opts\n",
    "hv.extension('bokeh')\n",
    "\n",
    "#Filter data for 2014 and 2015 \n",
    "df1=dataFrame.groupby(['year']).filter(lambda x: (x['year'] == 2014).any())\n",
    "df2=dataFrame.groupby(['year']).filter(lambda x: (x['year'] == 2015).any())\n",
    "\n",
    "#Monthly data for the two years \n",
    "sales_2014=hv.Bars(df1.groupby(['month'])['item'].count()).opts(ylabel=\"Number of items\", title='Number of items sold in 2014')\n",
    "sales_2015=hv.Bars(df2.groupby(['month'])['item'].count()).opts(ylabel=\"Number of items\", title='Number of items sold in 2015')\n",
    "\n",
    "#Combining the two plots\n",
    "(sales_2014 + sales_2015).opts(opts.Bars(width=380, height=300,tools=['hover'],show_grid=True))\n"
   ]
  },
  {
   "cell_type": "markdown",
   "id": "a9ce06b1",
   "metadata": {},
   "source": [
    "1. The year 2015 has a the higher sales than 2014 thus the business has a progressive increase in sales between the two years\n",
    "2. October 2015 has the highest sales \n",
    "3. In February and September recorded the lowest sales in 2015 and september 2014 also has the lowest sales\n"
   ]
  },
  {
   "cell_type": "markdown",
   "id": "dcdb34a3",
   "metadata": {},
   "source": [
    "### 2. The business monthly quantity purchases"
   ]
  },
  {
   "cell_type": "code",
   "execution_count": null,
   "id": "2ee2f489",
   "metadata": {},
   "outputs": [],
   "source": [
    "#Creating temporary data which has quantity purchased column\n",
    "temp=dataFrame.copy()\n",
    "temp['qty_purchased']=dataFrame['id'].map(dataFrame['id'].value_counts())\n",
    "\n",
    "#Slicing first 5000 rows as altair library can't plot any data which has record beyond that\n",
    "temp1=temp[:5000]\n",
    "temp1.columns\n",
    "\n",
    "#Plotting\n",
    "brush = alt.selection(type='interval', encodings=['x'])\n",
    "\n",
    "#Plotting the bar chart\n",
    "bars = alt.Chart().mark_bar(color=\"orange\").encode(\n",
    "    x=alt.X('month(Date):O',title=\"Month\"),\n",
    "    y=alt.Y('mean(qty_purchased):Q',title=\"Last Price\"),\n",
    "    opacity=alt.condition(brush, alt.OpacityValue(1), alt.OpacityValue(0.7)),\n",
    "    tooltip=['month(Date)','mean(qty_purchased)']\n",
    ").add_selection(\n",
    "    brush\n",
    ").properties(height=400,width=600,title=\"Monthly Quantity Purchases\")\n",
    "\n",
    "#Plotting avrage line\n",
    "line = alt.Chart().mark_rule(color='green').encode(\n",
    "    y='mean(qty_purchased):Q',\n",
    "    size=alt.SizeValue(3),\n",
    "    tooltip=['mean(qty_purchased)']\n",
    ").transform_filter(\n",
    "    brush\n",
    ")\n",
    "\n",
    "#Display plot using sliced data\n",
    "alt.layer(bars, line, data=temp1)"
   ]
  },
  {
   "cell_type": "markdown",
   "id": "c3034710",
   "metadata": {},
   "source": [
    "1. The top difference was experienced when the band shift after Jan-Apr months(window-4 months)\n",
    "2. The highest average is obviously between May-Aug month where highest was from June"
   ]
  },
  {
   "cell_type": "markdown",
   "id": "c03fc8c0",
   "metadata": {},
   "source": [
    "### 3. The business weekly quantity purchases"
   ]
  },
  {
   "cell_type": "code",
   "execution_count": null,
   "id": "4126f6cd",
   "metadata": {},
   "outputs": [],
   "source": [
    "#Converting weekday variable to category\n",
    "temp1.weekday = temp1.weekday.astype('category') \n",
    "\n",
    "#Creating a new dataframe which has the frequency of weekdays\n",
    "weekday_bin=temp1['weekday'].value_counts().to_frame().reset_index().rename(columns={'index':'weekday','weekday':'count'})\n",
    "\n",
    "#Plotting bar chart\n",
    "bars = alt.Chart(weekday_bin).mark_bar(color=\"darkgreen\").encode(\n",
    "    x='weekday',\n",
    "    y=alt.Y(\"count\",title='Number of purchases')\n",
    ")\n",
    "\n",
    "#Adding data labels\n",
    "text = bars.mark_text(\n",
    "    align='center',\n",
    "    baseline='middle',\n",
    "    dy=-7 ,\n",
    "    size=15,\n",
    ").encode(\n",
    "    text='count',\n",
    "    tooltip=[alt.Tooltip('weekday'),\n",
    "            alt.Tooltip('count')]\n",
    ")\n",
    "\n",
    "#Combining both\n",
    "(bars + text).properties(\n",
    "    width=800,\n",
    "    height=400,\n",
    "    title=\"Weekly Quantity Purchases\"\n",
    ")"
   ]
  },
  {
   "cell_type": "markdown",
   "id": "f092ab00",
   "metadata": {},
   "source": [
    "### 4. Perfomance of the products  "
   ]
  },
  {
   "cell_type": "code",
   "execution_count": null,
   "id": "3cb48b52",
   "metadata": {},
   "outputs": [],
   "source": [
    "#Graph : Item by count\n",
    "fig = px.bar(dataFrame[\"item\"].value_counts()[:20], orientation=\"v\", color=dataFrame[\"item\"].value_counts()[:20], color_continuous_scale=px.colors.sequential.Plasma, \n",
    "             log_x=False, labels={'value':'Count', \n",
    "                                'index':'Item',\n",
    "                                 'color':'None'\n",
    "                                })\n",
    "\n",
    "fig.update_layout(\n",
    "    font_color=\"black\",\n",
    "    title_font_color=\"blue\",\n",
    "    legend_title_font_color=\"green\",\n",
    "    title_text=\"Perfomance of Goods Sold\"\n",
    ")\n",
    "\n",
    "fig.show()"
   ]
  },
  {
   "cell_type": "markdown",
   "id": "405474b2",
   "metadata": {},
   "source": [
    "1. Whole milk products have the highest sales\n",
    "2. Pork is the least purchased product\n",
    "3. The top 10 purchased product include food items"
   ]
  },
  {
   "cell_type": "markdown",
   "id": "625f1eb2",
   "metadata": {},
   "source": [
    "### 5. The top and bottom 10 Fast moving products in both years"
   ]
  },
  {
   "cell_type": "code",
   "execution_count": null,
   "id": "8f62e4d5",
   "metadata": {},
   "outputs": [],
   "source": [
    "#Setting plot style\n",
    "plt.figure(figsize = (15, 8))\n",
    "plt.style.use('seaborn-white')\n",
    "\n",
    "#Top 10 fast moving products\n",
    "plt.subplot(1,2,1)\n",
    "ax=sns.countplot(y=\"item\", hue=\"year\", data=dataFrame, palette=\"pastel\",\n",
    "              order=data.item.value_counts().iloc[:10].index)\n",
    "\n",
    "ax.set_xticklabels(ax.get_xticklabels(),fontsize=11,rotation=40, ha=\"right\")\n",
    "ax.set_title('Top 10 Fast moving products',fontsize= 22)\n",
    "ax.set_xlabel('Total # of items purchased',fontsize = 20) \n",
    "ax.set_ylabel('Top 10 items', fontsize = 20)\n",
    "plt.tight_layout()\n",
    "\n",
    "#Bottom 10 fast moving products\n",
    "plt.subplot(1,2,2)\n",
    "ax=sns.countplot(y=\"item\", hue=\"year\", data=dataFrame, palette=\"pastel\",\n",
    "              order=data.item.value_counts().iloc[-10:].index)\n",
    "ax.set_xticklabels(ax.get_xticklabels(),fontsize=11,rotation=40, ha=\"right\")\n",
    "ax.set_title('Bottom 10 Fast moving products',fontsize= 22)\n",
    "ax.set_xlabel('Total # of items purchased',fontsize = 20) \n",
    "ax.set_ylabel('Bottom 10 items', fontsize = 20)\n",
    "plt.tight_layout()"
   ]
  },
  {
   "cell_type": "markdown",
   "id": "62a06757",
   "metadata": {},
   "source": [
    "1. Milk is the top product purchased in both 2014 and 2015 whereas lowest is preservation product which no one purchased in 2015\n",
    "2. Almost all the top products has seen a rise in 2015 except soda and bottled water\n",
    "3. Most of the bottom products nevr saw a rise in 2015 except whiskey,chicken,bag and baby cosmetics"
   ]
  },
  {
   "cell_type": "markdown",
   "id": "8fc932f3",
   "metadata": {},
   "source": [
    "### 6.The top customers with most purchases in both years"
   ]
  },
  {
   "cell_type": "code",
   "execution_count": null,
   "id": "3a388fdc",
   "metadata": {},
   "outputs": [],
   "source": [
    "top_customers=temp[['id', 'qty_purchased','year']].sort_values(by = 'qty_purchased',ascending = False).head(500)\n",
    "top_customers.id = top_customers.id.astype('category') \n",
    "top_customers.year = top_customers.year.astype('category') \n",
    "alt.Chart(top_customers).mark_bar(color=\"blue\").encode(\n",
    "    x='qty_purchased',\n",
    "    y=alt.Y('id', sort='-x'),\n",
    "    color='year',\n",
    "    tooltip=['id','qty_purchased']\n",
    ").properties(height=400,width=600,title=\"Top Customers\")"
   ]
  },
  {
   "cell_type": "markdown",
   "id": "05630bd5",
   "metadata": {},
   "source": [
    "1. 3180 id customer has topped the list and has been a loyal customer in both the year\n",
    "2. There can be few customers who are seen to be inconsitent where they have purchased a lot in 2014 and not in 2015 when it comes to customer life expectancy these consistency are considered. Since we have only two year data we can't comment on each customer about their customer life expectancy much"
   ]
  },
  {
   "cell_type": "markdown",
   "id": "d3bf9173",
   "metadata": {},
   "source": [
    "## 4. Association Rules with Apriori Algorithm"
   ]
  },
  {
   "cell_type": "markdown",
   "id": "8cf6576b",
   "metadata": {},
   "source": [
    "Association Rules are based on the concept of strong rules, are widely used to analyze retail basket or transaction data and are intended to identify strong rules discovered in transaction data using measures of interestingness.\n",
    "Association rules are used to unveil the relationship between one item and another when purchased, mainly denotes as X and Y. X is the main product being purchased while Y is the best product to be bought together with X. These rules are developed by three terminologies;\n",
    "    \n",
    "    1. Support - It is used to represent the number of transactions in which product X appears from thee total number of transactions. That is, the popularity of product X.\n",
    "    2. Confidence - It is the likelyhood that product Y being purchased when item X is purchased.\n",
    "    3. Lift -  This says how likely item Y is purchased when item X is purchased while controlling for how popular item Y is.\n",
    " They are calculated as follows;"
   ]
  },
  {
   "attachments": {
    "assocr2-300x228.png": {
     "image/png": "[encoded data removed]"
    }
   },
   "cell_type": "markdown",
   "id": "4525406d",
   "metadata": {},
   "source": [
    "![assocr2-300x228.png](attachment:assocr2-300x228.png)"
   ]
  },
  {
   "cell_type": "markdown",
   "id": "fdbc5363",
   "metadata": {},
   "source": [
    "The Apriori algorithm generates association rules, but it does so under the condition that\n",
    "\n",
    "    1. All subsets of the frequent itemset must all be frequent.\n",
    "    2. For any infrequent itemset all it's supersets must be infrequent too\n",
    "\n",
    "The method may take some time to construct if all rules are taken into account, thus if the lift of these chosen itemsets (rules) is less than a threshold, the rules are removed.\n",
    "the Apriori algorithm generates association rules, but it does so under the condition that\n",
    "\n",
    "    1. Subsets of the frequent itemset must all be frequent.\n",
    "    2. Similar to this, the algorithm operates in such a way that iterations take place with frequent itemsets and a minimum support value is determined if an infrequent subset has an infrequent parent set. Until removal is impossible, itemsets and subsets are disregarded if their support falls below the threshold.\n",
    "\n",
    "The method may take some time to construct if all rules are taken into account, thus if the lift of these chosen itemsets (rules) is less than a threshold, the rules are removed."
   ]
  },
  {
   "attachments": {
    "img054.webp": {
     "image/webp": "[encoded data removed]"
    }
   },
   "cell_type": "markdown",
   "id": "51b9846b",
   "metadata": {},
   "source": [
    "![img054.webp](attachment:img054.webp)"
   ]
  },
  {
   "cell_type": "markdown",
   "id": "a3c103aa",
   "metadata": {},
   "source": [
    "<h3><center>Apriori Algorithm Steps</center></h3>\n",
    "\n",
    "1. Identify the support threshold, in the above example, the support threshold has been set to 1\n",
    "2. Eliminate the items in the dataset that do not meet the requirements of the support threshold\n",
    "3. Pair up the items into 2 itemsets in the dataset\n",
    "4. From the pairs formed, eliminate the items with support of 1 and below\n",
    "5. Form pairs of three with the remaining items in the dataset\n",
    "6. Remove the items below the threshold\n",
    "7. The remaining pair is the valid frequent items purchased together"
   ]
  },
  {
   "cell_type": "markdown",
   "id": "b0627256",
   "metadata": {},
   "source": [
    "### 4.1 Preparing items for the Apriori Algorithm"
   ]
  },
  {
   "cell_type": "code",
   "execution_count": null,
   "id": "c7b81809",
   "metadata": {},
   "outputs": [],
   "source": [
    "products = data[\"item\"].unique()"
   ]
  },
  {
   "cell_type": "code",
   "execution_count": null,
   "id": "92dcb73b",
   "metadata": {},
   "outputs": [],
   "source": [
    "one_hot = pd.get_dummies(data['item'])\n",
    "\n",
    "data.drop(['item'], inplace=True, axis=1)\n",
    "data = data.join(one_hot)\n",
    "\n",
    "data.head()"
   ]
  },
  {
   "cell_type": "code",
   "execution_count": null,
   "id": "5c40dfc7",
   "metadata": {},
   "outputs": [],
   "source": [
    "records = data.groupby([\"id\",\"Date\"])[products[:]].sum()\n",
    "records = records.reset_index()[products]\n",
    "\n",
    "records"
   ]
  },
  {
   "cell_type": "code",
   "execution_count": null,
   "id": "db40344e",
   "metadata": {},
   "outputs": [],
   "source": [
    "def get_product_names(x):\n",
    "    for product in products:\n",
    "        if x[product] != 0:\n",
    "            x[product] = product\n",
    "    return x\n",
    "\n",
    "records = records.apply(get_product_names, axis=1)\n",
    "records.head()\n",
    "\n",
    "print(f\"Total transactions: {len(records)}\")"
   ]
  },
  {
   "cell_type": "code",
   "execution_count": null,
   "id": "ac952c2c",
   "metadata": {},
   "outputs": [],
   "source": [
    "# Removing zeros in DataFrame\n",
    "x = records.values\n",
    "x = [sub[~(sub == 0)].tolist() for sub in x if sub[sub != 0].tolist()]\n",
    "transactions = x"
   ]
  },
  {
   "cell_type": "code",
   "execution_count": null,
   "id": "4cef5932",
   "metadata": {},
   "outputs": [],
   "source": [
    "from apyori import apriori\n",
    "association_rules = apriori(transactions, min_support = 0.0003, min_confidence = 0.01, min_lift = 3, min_length = 2, target=\"rules\")\n",
    "association_results = list(association_rules)"
   ]
  },
  {
   "cell_type": "code",
   "execution_count": null,
   "id": "a2c0944e",
   "metadata": {},
   "outputs": [],
   "source": [
    "print(association_results[0])"
   ]
  },
  {
   "cell_type": "code",
   "execution_count": null,
   "id": "557ef90e",
   "metadata": {},
   "outputs": [],
   "source": [
    "for item in association_results:\n",
    "\n",
    "    pair = item[0] \n",
    "    items = [x for x in pair]\n",
    "    \n",
    "    print(\"Rule : \", items[0], \" -> \" + items[1])\n",
    "    print(\"Support : \", str(item[1]))\n",
    "    print(\"Confidence : \",str(item[2][0][2]))\n",
    "    print(\"Lift : \", str(item[2][0][3]))\n",
    "    \n",
    "    print(\"=====================================\")"
   ]
  },
  {
   "cell_type": "markdown",
   "id": "0685b67e",
   "metadata": {},
   "source": [
    "## 4.3 Association Rules based on Consumer Baskets"
   ]
  },
  {
   "cell_type": "code",
   "execution_count": null,
   "id": "5ad1f025",
   "metadata": {},
   "outputs": [],
   "source": [
    "from apyori import apriori"
   ]
  },
  {
   "cell_type": "code",
   "execution_count": null,
   "id": "7be808e9",
   "metadata": {},
   "outputs": [],
   "source": [
    "## Grouping the member's basket by the id, date and the number of items in the basket\n",
    "basket = df.groupby(['Member_number','Date'])\n",
    "basket.count()"
   ]
  },
  {
   "cell_type": "code",
   "execution_count": null,
   "id": "bb41fe3d",
   "metadata": {},
   "outputs": [],
   "source": [
    "## Convert it into a dataFrame\n",
    "df.groupby(['Member_number','Date'], as_index = False)['itemDescription'].sum()"
   ]
  },
  {
   "cell_type": "code",
   "execution_count": null,
   "id": "1efb710e",
   "metadata": {},
   "outputs": [],
   "source": [
    "## Let's try to see what items where in the baskets from transactions\n",
    "list_transactions = [i[1]['itemDescription'].tolist() for i in list(basket)]\n",
    "list_transactions[:20]"
   ]
  },
  {
   "cell_type": "markdown",
   "id": "56db19c5",
   "metadata": {},
   "source": [
    "We can see the 4 items in customer 1000, bought on the 15th of March were 'sausage', 'whole milk', 'semi-finished bread', 'yogurt' \n"
   ]
  },
  {
   "cell_type": "markdown",
   "id": "d057b6c8",
   "metadata": {},
   "source": [
    "## 4.2 Building Apriori Algorithm from the customer's baskets"
   ]
  },
  {
   "cell_type": "code",
   "execution_count": null,
   "id": "9c00d482",
   "metadata": {},
   "outputs": [],
   "source": [
    "## Building the rules for apriori with the customer's baskets in list_transactions\n",
    "rules = apriori(list_transactions, min_support=0.001, min_confidence=0.05, min_lift=1.2, min_length=2, max_length=2)"
   ]
  },
  {
   "cell_type": "code",
   "execution_count": null,
   "id": "7a4871f4",
   "metadata": {},
   "outputs": [],
   "source": [
    "results = list(rules)"
   ]
  },
  {
   "cell_type": "code",
   "execution_count": null,
   "id": "0117eb47",
   "metadata": {},
   "outputs": [],
   "source": [
    "def inspect(results):\n",
    "    lhs = [tuple(result[2][0][0])[0] for result in results]\n",
    "    rhs = [tuple(result[2][0][1])[0] for result in results]\n",
    "    support = [result[1]*100 for result in results]\n",
    "    confidence = [result[2][0][2]*100 for result in results]\n",
    "    lift = [result[2][0][3] for result in results]\n",
    "    return list(zip(lhs,rhs,support,confidence,lift))\n",
    "final_result = pd.DataFrame(inspect(results), columns=['Antecedent','Consequent','Support(%)','Confidence(%)','lift'])\n",
    "final_result['Rule'] = final_result['Antecedent'] + '->' + final_result['Consequent']"
   ]
  },
  {
   "cell_type": "code",
   "execution_count": null,
   "id": "374e1b2b",
   "metadata": {},
   "outputs": [],
   "source": [
    "final_result"
   ]
  },
  {
   "cell_type": "code",
   "execution_count": null,
   "id": "2e340422",
   "metadata": {},
   "outputs": [],
   "source": [
    "# Changing rules Parameters\n",
    "rules_2 = apriori(list_transactions, min_support = 0.001, min_confidence = 0.1, max_length = 3)\n",
    "results_2 = list(rules_2)"
   ]
  },
  {
   "cell_type": "code",
   "execution_count": null,
   "id": "8ed72ba5",
   "metadata": {},
   "outputs": [],
   "source": [
    "# Creating new data frame of new rules and Calculating number of rules\n",
    "pd.options.display.float_format = '{:,.2f}'.format\n",
    "final_df_2 = pd.DataFrame(columns = ['Left Hand Side 1', 'Left Hand Side 2','Right Hand Side', 'Support(%)', 'Confidence(%)', 'Lift'])\n",
    "for i in results_2:\n",
    "    if len(i[0]) > 2:\n",
    "        for j in range(0, len(i[2])):\n",
    "            LHS1 = list(i[2][j][0])[0]\n",
    "            LHS2 = list(i[2][j][0])[1]\n",
    "            RHS = list(i[2][j][1])[0]\n",
    "            SUPPORT = i[1]*100\n",
    "            CONFIDENCE = i[2][j][2]*100\n",
    "            LIFT = i[2][j][3]\n",
    "            new_row = {'Left Hand Side 1': LHS1, 'Left Hand Side 2': LHS2 ,'Right Hand Side': RHS, 'Support(%)': SUPPORT, 'Confidence(%)': CONFIDENCE, 'Lift': LIFT}\n",
    "            final_df_2 = final_df_2.append(new_row, ignore_index = True)\n",
    "final_df_2['Rules'] = final_df_2['Left Hand Side 1'] + ' + ' + final_df_2['Left Hand Side 2'] + ' -> ' + final_df_2['Right Hand Side']\n",
    "print('Number of Rules: ', final_df_2['Rules'].count(), 'Rules')\n",
    "final_df_2.head()"
   ]
  },
  {
   "cell_type": "code",
   "execution_count": null,
   "id": "ac8208e0",
   "metadata": {},
   "outputs": [],
   "source": [
    "final_df_2.to_csv('newRules.csv')"
   ]
  },
  {
   "cell_type": "code",
   "execution_count": null,
   "id": "dc8cbd1f",
   "metadata": {},
   "outputs": [],
   "source": [
    "# Save the rules to a pickle file\n",
    "with open('apriori_rules.pickle', 'wb') as f:\n",
    "    pickle.dump(rules, f)"
   ]
  }
 ],
 "metadata": {
  "kernelspec": {
   "display_name": "Python 3 (ipykernel)",
   "language": "python",
   "name": "python3"
  },
  "language_info": {
   "codemirror_mode": {
    "name": "ipython",
    "version": 3
   },
   "file_extension": ".py",
   "mimetype": "text/x-python",
   "name": "python",
   "nbconvert_exporter": "python",
   "pygments_lexer": "ipython3",
   "version": "3.9.7"
  }
 },
 "nbformat": 4,
 "nbformat_minor": 5
}
